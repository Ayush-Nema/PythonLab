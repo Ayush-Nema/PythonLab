{
 "cells": [
  {
   "cell_type": "markdown",
   "id": "07618536-dea5-4b50-9986-4dd76cdab135",
   "metadata": {},
   "source": [
    "# 1. `__eq__`\n",
    "### Equality dunder method"
   ]
  },
  {
   "cell_type": "code",
   "execution_count": 1,
   "id": "5db5897a-9953-4b0c-b4a4-7eb514cedb7b",
   "metadata": {},
   "outputs": [],
   "source": [
    "class Fruit:\n",
    "    def __init__(self, *, name: str, grams: float):\n",
    "        self.name = name\n",
    "        self.grams = grams"
   ]
  },
  {
   "cell_type": "code",
   "execution_count": 4,
   "id": "bb0dceda-6e77-4dfa-be55-4acda0a4d7bc",
   "metadata": {},
   "outputs": [],
   "source": [
    "def main() -> None:\n",
    "    f1: Fruit = Fruit(name='Apple', grams=100)\n",
    "    f2: Fruit = Fruit(name='Orange', grams=140)\n",
    "    f3: Fruit = Fruit(name='Apple', grams=100)\n",
    "\n",
    "    print(f1 == f2)\n",
    "    print(f1 == f3)"
   ]
  },
  {
   "cell_type": "code",
   "execution_count": 6,
   "id": "bc7b5961-a75e-476a-a3df-a132c7122500",
   "metadata": {},
   "outputs": [
    {
     "name": "stdout",
     "output_type": "stream",
     "text": [
      "False\n",
      "False\n"
     ]
    }
   ],
   "source": [
    "main()"
   ]
  },
  {
   "cell_type": "markdown",
   "id": "193018cf-9acf-47f3-b665-fd78d158b676",
   "metadata": {},
   "source": [
    "Returns:  \n",
    "> False  \n",
    "> False\n",
    "\n",
    "We get both `False` because the default implementation compares the memory address of the classes and not their actual values. \n",
    "Therefore, even though f1 and f3 are exactly the same, it still returns `False`.  \n",
    "Let us define the equality dunder method which allows us to choose what part of the class we want to compare to another class so that we can consider them equal."
   ]
  },
  {
   "cell_type": "code",
   "execution_count": null,
   "id": "f8670489-f330-4a86-bdc1-92a90caa994c",
   "metadata": {},
   "outputs": [],
   "source": []
  },
  {
   "cell_type": "markdown",
   "id": "6c65d4b9-e587-4830-a106-e72a3ef7fdf1",
   "metadata": {},
   "source": [
    "#### Redefining the classes with `__eq__` method"
   ]
  },
  {
   "cell_type": "code",
   "execution_count": 11,
   "id": "f7888f75-d77c-49ac-bfea-a8051994720e",
   "metadata": {},
   "outputs": [
    {
     "name": "stdout",
     "output_type": "stream",
     "text": [
      "False\n",
      "True\n"
     ]
    }
   ],
   "source": [
    "class Fruit:\n",
    "    def __init__(self, *, name: str, grams: float):\n",
    "        self.name = name\n",
    "        self.grams = grams\n",
    "\n",
    "    def __eq__(self, other) -> bool:\n",
    "        # return self.name == other.name\n",
    "        return self.__dict__ == other.__dict__\n",
    "\n",
    "\n",
    "def main() -> None:\n",
    "    f1: Fruit = Fruit(name='Apple', grams=100)\n",
    "    f2: Fruit = Fruit(name='Orange', grams=140)\n",
    "    f3: Fruit = Fruit(name='Apple', grams=100)\n",
    "\n",
    "    print(f1 == f2)\n",
    "    print(f1 == f3)\n",
    "\n",
    "\n",
    "main()"
   ]
  },
  {
   "cell_type": "code",
   "execution_count": null,
   "id": "b58ec2b2-eac9-4fe1-bf18-98d1d7712a69",
   "metadata": {},
   "outputs": [],
   "source": []
  },
  {
   "cell_type": "markdown",
   "id": "260d4725-12bd-4d15-97c4-a2bb890d38d1",
   "metadata": {},
   "source": [
    "# 2. `__format__`\n",
    "### Format dunder method\n",
    "\n",
    "##### Word of caution ⚠️:\n",
    "The `match` statement was introduced in Python 3.10. So, make sure to use Python 3.10 or newer versions."
   ]
  },
  {
   "cell_type": "code",
   "execution_count": 3,
   "id": "1af2bd4d-13b4-4074-ba9b-03b566169afd",
   "metadata": {},
   "outputs": [
    {
     "ename": "SyntaxError",
     "evalue": "invalid syntax (480187113.py, line 7)",
     "output_type": "error",
     "traceback": [
      "\u001b[0;36m  Cell \u001b[0;32mIn[3], line 7\u001b[0;36m\u001b[0m\n\u001b[0;31m    match format_spec:\u001b[0m\n\u001b[0m          ^\u001b[0m\n\u001b[0;31mSyntaxError\u001b[0m\u001b[0;31m:\u001b[0m invalid syntax\n"
     ]
    }
   ],
   "source": [
    "class Fruit:\n",
    "    def __init__(self, *, name: str, grams: float):\n",
    "        self.name = name\n",
    "        self.grams = grams\n",
    "\n",
    "    def __format__(self, format_spec: str) -> str:\n",
    "        match format_spec:\n",
    "            case 'kg':\n",
    "                return f'{self.grams / 1000:.2f}kg'\n",
    "            case 'lb':\n",
    "                return f'{self.grams / 453.5924:.2f}lb'\n",
    "            case 'desc':\n",
    "                return f'{self.grams}g of {self.name}'\n",
    "            case _:\n",
    "                raise ValueError(f'Invalid format specifier: {format_spec}')\n",
    "            \n",
    "\n",
    "def main():\n",
    "    apple: Fruit = Fruit(name='apple', grams=2500)\n",
    "    print(f'{apple:kg}')\n",
    "    print(f'{apple:lb}')\n",
    "    print(f'{apple:desc}')\n",
    "\n",
    "main()\n",
    "# Returns> 2.50kg     "
   ]
  },
  {
   "cell_type": "code",
   "execution_count": null,
   "id": "4ecec22e-6a02-412d-b88b-2773155b40de",
   "metadata": {},
   "outputs": [],
   "source": []
  },
  {
   "cell_type": "markdown",
   "id": "d85c5752-fb05-4724-9de5-ebacae0da434",
   "metadata": {},
   "source": [
    "# 3. `__or__`\n",
    "### OR dunder method"
   ]
  },
  {
   "cell_type": "code",
   "execution_count": 6,
   "id": "884eeda6-a120-445b-9911-f89824a2fb24",
   "metadata": {},
   "outputs": [
    {
     "name": "stdout",
     "output_type": "stream",
     "text": [
      "{1: 'a', 2: 'b', 3: 'c', 4: 'd'}\n",
      "{1, 2, 3, 4}\n"
     ]
    }
   ],
   "source": [
    "class Fruit:\n",
    "    def __init__(self, *, name: str, grams: float):\n",
    "        self.name = name\n",
    "        self.grams = grams\n",
    "\n",
    "\n",
    "def main() -> None:\n",
    "    d1: dict = {1: 'a', 2: 'b'}\n",
    "    d2: dict = {3: 'c', 4: 'd'}\n",
    "    print(d1 | d2)\n",
    "\n",
    "    # Pipe or Union ('|') also works in sets\n",
    "    s1: set = {1, 2}\n",
    "    s2: set = {3, 4}\n",
    "    print(s1 | s2)\n",
    "\n",
    "\n",
    "main()"
   ]
  },
  {
   "cell_type": "markdown",
   "id": "51bc187a-0a40-44a3-85a8-92a925ece9f3",
   "metadata": {},
   "source": [
    "#### Recreating this functionality in the class"
   ]
  },
  {
   "cell_type": "code",
   "execution_count": 17,
   "id": "0f1c16db-5b77-4849-8006-48bafc5eddd3",
   "metadata": {},
   "outputs": [
    {
     "name": "stdout",
     "output_type": "stream",
     "text": [
      "Fruit(name=\"Apple & Banana & Orange\", grams=4700)\n"
     ]
    }
   ],
   "source": [
    "class Fruit:\n",
    "    def __init__(self, *, name: str, grams: float):\n",
    "        self.name = name\n",
    "        self.grams = grams\n",
    "\n",
    "    def __or__(self, other:Fruit) -> Fruit:\n",
    "        new_name: str = f'{self.name} & {other.name}'\n",
    "        new_grams: float = self.grams + other.grams\n",
    "        return Fruit(name=new_name, grams=new_grams)\n",
    "\n",
    "    def __repr__(self) -> str:\n",
    "        return f'Fruit(name=\"{self.name}\", grams={self.grams})'\n",
    "\n",
    "\n",
    "def main() -> None:\n",
    "    apple: Fruit = Fruit(name='Apple', grams=2300)\n",
    "    orange: Fruit = Fruit(name='Orange', grams=1400)\n",
    "    banana: Fruit = Fruit(name='Banana', grams=1000)\n",
    "\n",
    "    combined: Fruit = apple | banana | orange\n",
    "    print(combined)\n",
    "\n",
    "\n",
    "main()"
   ]
  },
  {
   "cell_type": "code",
   "execution_count": null,
   "id": "7f65acc1-e70e-467d-ae79-026ab60ca2a8",
   "metadata": {},
   "outputs": [],
   "source": []
  },
  {
   "cell_type": "markdown",
   "id": "a6aab562-27db-4496-a5ac-c4b00c055ed1",
   "metadata": {},
   "source": [
    "# 4. `__repr__`\n",
    "### REPR and STR dunder methods"
   ]
  },
  {
   "cell_type": "code",
   "execution_count": 22,
   "id": "b56bdad5-2ca1-4123-80ba-bbce0a560ef8",
   "metadata": {},
   "outputs": [
    {
     "name": "stdout",
     "output_type": "stream",
     "text": [
      "str: Apple (2300g)\n",
      "repr: Fruit(name=\"Apple\", grams=2300)\n",
      "str: Orange (1400g)\n",
      "repr: Fruit(name=\"Orange\", grams=1400)\n",
      "str: Banana (1000g)\n",
      "repr: Fruit(name=\"Banana\", grams=1000)\n"
     ]
    }
   ],
   "source": [
    "class Fruit:\n",
    "    def __init__(self, *, name: str, grams: float):\n",
    "        self.name = name\n",
    "        self.grams = grams\n",
    "\n",
    "    def __str__(self) -> str:\n",
    "        # provides more readability\n",
    "        return f'{self.name} ({self.grams}g)'\n",
    "\n",
    "    def __repr__(self) -> str:\n",
    "        # more programmer friendly. Output is similar to one we get from `dataclass`. We can directly use `eval()` over the output.\n",
    "        return f'Fruit(name=\"{self.name}\", grams={self.grams})'\n",
    "\n",
    "\n",
    "def main() -> None:\n",
    "    fruits: list[Fruit] = [Fruit(name='Apple', grams=2300),\n",
    "                           Fruit(name='Orange', grams=1400),\n",
    "                           Fruit(name='Banana', grams=1000)]\n",
    "\n",
    "    for fruit in fruits:\n",
    "        print(f'str: {fruit}')\n",
    "        print(f'repr: {repr(fruit)}')\n",
    "\n",
    "\n",
    "main()"
   ]
  },
  {
   "cell_type": "code",
   "execution_count": null,
   "id": "3467f054-e460-4a94-8504-7b598e95e896",
   "metadata": {},
   "outputs": [],
   "source": []
  },
  {
   "cell_type": "markdown",
   "id": "dfd44c92-350d-4c42-90b5-5bc9bcbf4e60",
   "metadata": {},
   "source": [
    "#### Default \n",
    "If nothing is defined it just gives the representation of the memory location"
   ]
  },
  {
   "cell_type": "code",
   "execution_count": 23,
   "id": "7f1865e3-1152-40d8-9536-733a8406fedf",
   "metadata": {},
   "outputs": [
    {
     "name": "stdout",
     "output_type": "stream",
     "text": [
      "str: <__main__.Fruit object at 0x103ef3df0>\n",
      "repr: <__main__.Fruit object at 0x103ef3df0>\n",
      "str: <__main__.Fruit object at 0x103ef3d30>\n",
      "repr: <__main__.Fruit object at 0x103ef3d30>\n",
      "str: <__main__.Fruit object at 0x103ef39a0>\n",
      "repr: <__main__.Fruit object at 0x103ef39a0>\n"
     ]
    }
   ],
   "source": [
    "class Fruit:\n",
    "    def __init__(self, *, name: str, grams: float):\n",
    "        self.name = name\n",
    "        self.grams = grams\n",
    "\n",
    "\n",
    "def main() -> None:\n",
    "    fruits: list[Fruit] = [Fruit(name='Apple', grams=2300),\n",
    "                           Fruit(name='Orange', grams=1400),\n",
    "                           Fruit(name='Banana', grams=1000)]\n",
    "\n",
    "    for fruit in fruits:\n",
    "        print(f'str: {fruit}')\n",
    "        print(f'repr: {repr(fruit)}')\n",
    "\n",
    "\n",
    "main()"
   ]
  },
  {
   "cell_type": "code",
   "execution_count": null,
   "id": "e95ce244-02d7-40b4-8445-72ebac3941ff",
   "metadata": {},
   "outputs": [],
   "source": []
  },
  {
   "cell_type": "markdown",
   "id": "34e5ee92-b1ce-4691-b56b-61ef70346f5f",
   "metadata": {},
   "source": [
    "# 5. `__getitem__`\n",
    "### getitem dunder method"
   ]
  },
  {
   "cell_type": "code",
   "execution_count": 27,
   "id": "1b3879b3-5ecd-4a57-934e-4932a9686d86",
   "metadata": {},
   "outputs": [
    {
     "ename": "TypeError",
     "evalue": "dataclass() got an unexpected keyword argument 'kw_only'",
     "output_type": "error",
     "traceback": [
      "\u001b[0;31m---------------------------------------------------------------------------\u001b[0m",
      "\u001b[0;31mTypeError\u001b[0m                                 Traceback (most recent call last)",
      "Cell \u001b[0;32mIn[27], line 3\u001b[0m\n\u001b[1;32m      1\u001b[0m \u001b[38;5;28;01mfrom\u001b[39;00m \u001b[38;5;21;01mdataclasses\u001b[39;00m \u001b[38;5;28;01mimport\u001b[39;00m dataclass\n\u001b[0;32m----> 3\u001b[0m \u001b[38;5;129m@dataclass\u001b[39m\u001b[43m(\u001b[49m\u001b[43mkw_only\u001b[49m\u001b[38;5;241;43m=\u001b[39;49m\u001b[38;5;28;43;01mTrue\u001b[39;49;00m\u001b[43m)\u001b[49m  \u001b[38;5;66;03m# `kw_only` argument is added in Python 3.10 and newer versions\u001b[39;00m\n\u001b[1;32m      4\u001b[0m \u001b[38;5;28;01mclass\u001b[39;00m \u001b[38;5;21;01mFruit\u001b[39;00m:\n\u001b[1;32m      5\u001b[0m     name: \u001b[38;5;28mstr\u001b[39m\n\u001b[1;32m      6\u001b[0m     grams: \u001b[38;5;28mfloat\u001b[39m\n",
      "\u001b[0;31mTypeError\u001b[0m: dataclass() got an unexpected keyword argument 'kw_only'"
     ]
    }
   ],
   "source": [
    "from dataclasses import dataclass\n",
    "\n",
    "@dataclass(kw_only=True)  # `kw_only` argument is added in Python 3.10 and newer versions\n",
    "class Fruit:\n",
    "    name: str\n",
    "    grams: float\n",
    "\n",
    "\n",
    "class Basket:\n",
    "    def __init__(self, *, fruits: list[Fruit]) -> None:\n",
    "        self.fruits = fruits\n",
    "\n",
    "    def __getitem__(self, item:str) -> list[Fruit]:\n",
    "        return [fruit for fruit in self.fruits if fruit.name.lower() == item]\n",
    "\n",
    "\n",
    "def main() -> None:\n",
    "    fruits: list[Fruit] = [Fruit(name='Apple', grams=2300),\n",
    "                           Fruit(name='Orange', grams=1400),\n",
    "                           Fruit(name='Banana', grams=1000),\n",
    "                           Fruit(name='Orange', grams=1420),\n",
    "                           Fruit(name='Banana', grams=1560)]\n",
    "\n",
    "    basket: Basket = Basket(fruits=fruits)\n",
    "    \n",
    "    matches: list[Fruit] = basket['orange']\n",
    "    print(f'Matches: {matches}')\n",
    "    print(f'Total: {len(matches)}')\n",
    "\n",
    "\n",
    "main()\n",
    "\n",
    "# Returns: when searched for 'orange'\n",
    "# Matches: [Fruit(name='Orange', grams=1400), Fruit(name='Orange', grams=1420)]\n",
    "# Total: 2\n",
    "\n",
    "# Returns: when searched for 'pineapple' (not present in the input)\n",
    "# Matches: []\n",
    "# Total: 0"
   ]
  },
  {
   "cell_type": "code",
   "execution_count": null,
   "id": "0f0970c1-771d-44e6-9c5b-0722ce5c5f17",
   "metadata": {},
   "outputs": [],
   "source": []
  }
 ],
 "metadata": {
  "kernelspec": {
   "display_name": "Python 3 (ipykernel)",
   "language": "python",
   "name": "python3"
  },
  "language_info": {
   "codemirror_mode": {
    "name": "ipython",
    "version": 3
   },
   "file_extension": ".py",
   "mimetype": "text/x-python",
   "name": "python",
   "nbconvert_exporter": "python",
   "pygments_lexer": "ipython3",
   "version": "3.9.6"
  }
 },
 "nbformat": 4,
 "nbformat_minor": 5
}
