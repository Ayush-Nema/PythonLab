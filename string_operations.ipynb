{
 "cells": [
  {
   "cell_type": "markdown",
   "id": "8e00591a-b799-4fd6-b94f-12acf9ff54d0",
   "metadata": {},
   "source": [
    "# String operations  \n",
    "\n",
    "Curation of some cools string operations"
   ]
  },
  {
   "cell_type": "markdown",
   "id": "872a6594-11ab-4262-9168-a8beb9abae32",
   "metadata": {},
   "source": [
    "## **Trick 1:** Viewing bigger numbers (ints)"
   ]
  },
  {
   "cell_type": "code",
   "execution_count": 2,
   "id": "1ba976ac-29f1-46b8-bb14-e7c9fb2c2b3d",
   "metadata": {},
   "outputs": [
    {
     "name": "stdout",
     "output_type": "stream",
     "text": [
      "1000000000\n"
     ]
    }
   ],
   "source": [
    "n: int = 1_000_000_000\n",
    "m: float = 1e9\n",
    "\n",
    "print(n)"
   ]
  },
  {
   "cell_type": "code",
   "execution_count": 4,
   "id": "c1b53cba-806b-45cb-8c11-be9e8551a71f",
   "metadata": {},
   "outputs": [
    {
     "name": "stdout",
     "output_type": "stream",
     "text": [
      "1_000_000_000\n"
     ]
    }
   ],
   "source": [
    "print(f'{n:_}')"
   ]
  },
  {
   "cell_type": "code",
   "execution_count": 5,
   "id": "5c29ffed-3f3b-4bc0-a649-ad5d38b64095",
   "metadata": {},
   "outputs": [
    {
     "name": "stdout",
     "output_type": "stream",
     "text": [
      "1,000,000,000\n"
     ]
    }
   ],
   "source": [
    "print(f'{n:,}')"
   ]
  },
  {
   "cell_type": "code",
   "execution_count": null,
   "id": "b0f2da44-7554-46b8-bd9f-eb47d25b542f",
   "metadata": {},
   "outputs": [],
   "source": []
  },
  {
   "cell_type": "markdown",
   "id": "c2852930-3901-4a53-a8d1-5a2f79094ab8",
   "metadata": {},
   "source": [
    "## **Trick 2:** String alignment while `stdout`"
   ]
  },
  {
   "cell_type": "code",
   "execution_count": 11,
   "id": "0c70df79-fa5b-4334-9e91-2141aea1fb5e",
   "metadata": {},
   "outputs": [
    {
     "name": "stdout",
     "output_type": "stream",
     "text": [
      "foo\n"
     ]
    }
   ],
   "source": [
    "var: str = 'foo'\n",
    "print(var)  # basic left aligned printing"
   ]
  },
  {
   "cell_type": "markdown",
   "id": "190cbc65-0d18-442b-8d03-f38dcfd84101",
   "metadata": {},
   "source": [
    "### Alignment\n",
    "#### Right align text"
   ]
  },
  {
   "cell_type": "code",
   "execution_count": 16,
   "id": "35103b05-a920-4d36-be3a-399749c79459",
   "metadata": {},
   "outputs": [
    {
     "name": "stdout",
     "output_type": "stream",
     "text": [
      "                 foo\n",
      "                 foo:\n"
     ]
    }
   ],
   "source": [
    "# Right aligned printing\n",
    "# Since the variable here is `foo` which consumes 3 spaces. The final ouput will be aligned 17 (20 -3) spaces to the right.\n",
    "print(f\"{var:>20}\")  # consumes 20 characters of space\n",
    "print(f\"{var:>20}:\")"
   ]
  },
  {
   "cell_type": "markdown",
   "id": "a5dc90d5-18d8-4948-81b7-d1d3d31e3932",
   "metadata": {},
   "source": [
    "#### Left align text"
   ]
  },
  {
   "cell_type": "code",
   "execution_count": 17,
   "id": "013b49e2-7ac3-4962-8db5-150e01ce6da3",
   "metadata": {},
   "outputs": [
    {
     "name": "stdout",
     "output_type": "stream",
     "text": [
      "foo                 \n",
      "foo                 :\n"
     ]
    }
   ],
   "source": [
    "# Default left alignment\n",
    "print(f\"{var:<20}\")\n",
    "print(f\"{var:<20}:\")  # ≡ f\"var:20}:\""
   ]
  },
  {
   "cell_type": "markdown",
   "id": "0b8a88aa-8903-4e44-afcb-7e1a61b77cc1",
   "metadata": {},
   "source": [
    "#### Centre align text"
   ]
  },
  {
   "cell_type": "code",
   "execution_count": 18,
   "id": "e10ad9a1-29a2-4d53-b0ab-f92693f6b46f",
   "metadata": {},
   "outputs": [
    {
     "name": "stdout",
     "output_type": "stream",
     "text": [
      "        foo         :\n"
     ]
    }
   ],
   "source": [
    "print(f\"{var:^20}:\")"
   ]
  },
  {
   "cell_type": "markdown",
   "id": "67b910cf-3dc9-462b-ba07-d5fef7bd7190",
   "metadata": {},
   "source": [
    "### Alignment with space fillers"
   ]
  },
  {
   "cell_type": "markdown",
   "id": "f6e4cbcf-24f0-4021-95f8-b271345f1c9e",
   "metadata": {},
   "source": [
    "#### No filler (default)"
   ]
  },
  {
   "cell_type": "code",
   "execution_count": 25,
   "id": "25640f4f-e519-4e41-8840-6df83ad1f3d9",
   "metadata": {},
   "outputs": [
    {
     "name": "stdout",
     "output_type": "stream",
     "text": [
      "                 foo:\n"
     ]
    }
   ],
   "source": [
    "print(f\"{var:>20}:\")"
   ]
  },
  {
   "cell_type": "markdown",
   "id": "754a186d-bd8d-41a3-bdb8-2b758eeb4e5c",
   "metadata": {},
   "source": [
    "#### Fill with underscore `(_)`"
   ]
  },
  {
   "cell_type": "code",
   "execution_count": 27,
   "id": "61e4ec37-4ead-45f0-956e-6bc57a493c89",
   "metadata": {},
   "outputs": [
    {
     "name": "stdout",
     "output_type": "stream",
     "text": [
      "_________________foo:\n",
      "________foo_________:\n"
     ]
    }
   ],
   "source": [
    "print(f\"{var:_>20}:\")\n",
    "print(f\"{var:_^20}:\")"
   ]
  },
  {
   "cell_type": "markdown",
   "id": "702abdf4-cbcd-47c1-9efa-9f290ff6af4b",
   "metadata": {},
   "source": [
    "#### Fill with hash symbol `(#)`"
   ]
  },
  {
   "cell_type": "code",
   "execution_count": 28,
   "id": "980c678c-68af-4a82-b3c3-d0c06764b2a8",
   "metadata": {},
   "outputs": [
    {
     "name": "stdout",
     "output_type": "stream",
     "text": [
      "#################foo:\n",
      "########foo#########:\n"
     ]
    }
   ],
   "source": [
    "print(f\"{var:#>20}:\")\n",
    "print(f\"{var:#^20}:\")"
   ]
  },
  {
   "cell_type": "markdown",
   "id": "891dbfc2-fdec-4dad-a6c0-108d1759ae61",
   "metadata": {},
   "source": [
    "#### Fill with pipe symbol `(|)`"
   ]
  },
  {
   "cell_type": "code",
   "execution_count": 29,
   "id": "c83dce3d-5905-4877-9d2d-9921504cd234",
   "metadata": {},
   "outputs": [
    {
     "name": "stdout",
     "output_type": "stream",
     "text": [
      "|||||||||||||||||foo:\n",
      "||||||||foo|||||||||:\n"
     ]
    }
   ],
   "source": [
    "print(f\"{var:|>20}:\")\n",
    "print(f\"{var:|^20}:\")"
   ]
  },
  {
   "cell_type": "code",
   "execution_count": null,
   "id": "036ba45e-3be9-4773-bc0b-2bfc1c29c684",
   "metadata": {},
   "outputs": [],
   "source": []
  },
  {
   "cell_type": "markdown",
   "id": "3f59df53-54aa-45b0-aec1-96dba4f7c849",
   "metadata": {},
   "source": [
    "## **Trick 3:** Formatting datetime information\n",
    "\n",
    "Read more about format specifiers here: [Click here](https://docs.python.org/3/library/datetime.html#strftime-and-strptime-format-codes)"
   ]
  },
  {
   "cell_type": "code",
   "execution_count": 32,
   "id": "b7c22706-b64d-4bb4-a6f5-e7cf35fc00ee",
   "metadata": {},
   "outputs": [
    {
     "name": "stdout",
     "output_type": "stream",
     "text": [
      "2024-03-26 15:54:49.366448\n"
     ]
    }
   ],
   "source": [
    "from datetime import datetime\n",
    "now: datetime = datetime.now()\n",
    "\n",
    "print(now)"
   ]
  },
  {
   "cell_type": "markdown",
   "id": "933d7319-e772-4b89-98d8-e6639a9375c2",
   "metadata": {},
   "source": [
    "#### Specifying the `datetime` format"
   ]
  },
  {
   "cell_type": "code",
   "execution_count": 35,
   "id": "ad16b84e-06dd-426b-8376-ec95aeedb6d0",
   "metadata": {},
   "outputs": [
    {
     "name": "stdout",
     "output_type": "stream",
     "text": [
      "26.03.24\n"
     ]
    }
   ],
   "source": [
    "# Formatting date\n",
    "print(f\"{now:%d.%m.%y}\")"
   ]
  },
  {
   "cell_type": "code",
   "execution_count": 38,
   "id": "ce888735-1c69-4e2a-9229-8124a361e857",
   "metadata": {},
   "outputs": [
    {
     "name": "stdout",
     "output_type": "stream",
     "text": [
      "26.03.24 (15:54:49 PM)\n"
     ]
    }
   ],
   "source": [
    "# Providing date as well as time in given format\n",
    "print(f\"{now:%d.%m.%y (%H:%M:%S %p)}\")"
   ]
  },
  {
   "cell_type": "markdown",
   "id": "75e62a47-1a93-4311-a6fe-67fe27f0a1e6",
   "metadata": {},
   "source": [
    "#### Getting local time"
   ]
  },
  {
   "cell_type": "code",
   "execution_count": 37,
   "id": "e1450de5-a2cc-445a-b8da-6705d42f0fce",
   "metadata": {},
   "outputs": [
    {
     "name": "stdout",
     "output_type": "stream",
     "text": [
      "Tue Mar 26 15:54:49 2024\n"
     ]
    }
   ],
   "source": [
    "print(f\"{now:%c}\")"
   ]
  },
  {
   "cell_type": "code",
   "execution_count": 42,
   "id": "a3612dcd-226a-4c04-b398-a1ba14e3a630",
   "metadata": {},
   "outputs": [
    {
     "name": "stdout",
     "output_type": "stream",
     "text": [
      "03PM\n"
     ]
    }
   ],
   "source": [
    "# Only hour information with AM/PM\n",
    "print(f\"{now:%I%p}\")"
   ]
  },
  {
   "cell_type": "code",
   "execution_count": null,
   "id": "7cf4e31d-c721-4699-a813-f671d47ddfb2",
   "metadata": {},
   "outputs": [],
   "source": []
  },
  {
   "cell_type": "markdown",
   "id": "d4558ab3-527c-41b1-bad2-94d273dd9ec3",
   "metadata": {},
   "source": [
    "## **Trick 4:** Formatting `float`"
   ]
  },
  {
   "cell_type": "code",
   "execution_count": 44,
   "id": "bd04d3e1-5ba5-40c5-9610-7f99a3dae3f9",
   "metadata": {},
   "outputs": [
    {
     "name": "stdout",
     "output_type": "stream",
     "text": [
      "1234.5678901234\n"
     ]
    }
   ],
   "source": [
    "n_num: float = 1234.5678901234\n",
    "print(n_num)"
   ]
  },
  {
   "cell_type": "markdown",
   "id": "0135ce19-98bf-4c7f-83a5-c421b47c82a6",
   "metadata": {},
   "source": [
    "#### Rounding off the float (useful for print operations)"
   ]
  },
  {
   "cell_type": "code",
   "execution_count": 45,
   "id": "f507fa54-0089-4714-b528-d0aa7fe0cd80",
   "metadata": {},
   "outputs": [
    {
     "name": "stdout",
     "output_type": "stream",
     "text": [
      "1234.57\n"
     ]
    }
   ],
   "source": [
    "# Alternate #1\n",
    "print(round(n_num, 2))"
   ]
  },
  {
   "cell_type": "code",
   "execution_count": 49,
   "id": "e3f06065-04bd-4baf-af7c-4e194d8a1985",
   "metadata": {},
   "outputs": [
    {
     "name": "stdout",
     "output_type": "stream",
     "text": [
      "1234.57\n",
      "1235\n"
     ]
    }
   ],
   "source": [
    "# Alternate #2\n",
    "print(f\"{n_num:.2f}\")  # round the variable to 2 decimal places\n",
    "print(f\"{n_num:.0f}\")  # complete round off"
   ]
  },
  {
   "cell_type": "markdown",
   "id": "0a30a702-4d5a-4428-bc79-795cbb4243c1",
   "metadata": {},
   "source": [
    "#### Inserting separator"
   ]
  },
  {
   "cell_type": "code",
   "execution_count": 50,
   "id": "9c605a48-a8c7-4193-b822-356f08b61df1",
   "metadata": {},
   "outputs": [
    {
     "name": "stdout",
     "output_type": "stream",
     "text": [
      "1,234.568\n"
     ]
    }
   ],
   "source": [
    "print(f\"{n_num:,.3f}\")"
   ]
  },
  {
   "cell_type": "code",
   "execution_count": 51,
   "id": "86367d68-0d75-4f63-ae46-cc4b1fa17dc2",
   "metadata": {},
   "outputs": [
    {
     "name": "stdout",
     "output_type": "stream",
     "text": [
      "1_234.568\n"
     ]
    }
   ],
   "source": [
    "print(f\"{n_num:_.3f}\")"
   ]
  },
  {
   "cell_type": "code",
   "execution_count": null,
   "id": "b3b537b7-c8fe-4f7b-86ed-2e693013be79",
   "metadata": {},
   "outputs": [],
   "source": []
  },
  {
   "cell_type": "markdown",
   "id": "990f39d9-25c5-4107-964b-ca46cdb08374",
   "metadata": {},
   "source": [
    "## **Trick 5:** Debugging made easy\n",
    "\n",
    "Note: The use-cases are _limited_ for this but maybe useful some time"
   ]
  },
  {
   "cell_type": "code",
   "execution_count": 53,
   "id": "6f43d410-9ced-4335-bfea-aabc4b7cb7f0",
   "metadata": {},
   "outputs": [
    {
     "name": "stdout",
     "output_type": "stream",
     "text": [
      "a + b = 15\n"
     ]
    }
   ],
   "source": [
    "a: int = 5\n",
    "b: int = 10\n",
    "my_var: str = 'This is new str var'\n",
    "\n",
    "print(f'a + b = {a+b}')"
   ]
  },
  {
   "cell_type": "code",
   "execution_count": 58,
   "id": "59fe88fa-98df-4727-a336-fa0ac959eb30",
   "metadata": {},
   "outputs": [
    {
     "name": "stdout",
     "output_type": "stream",
     "text": [
      "a + b = 15\n",
      "a + b =15\n"
     ]
    }
   ],
   "source": [
    "print(f'{a + b = }')\n",
    "print(f'{a + b =}')"
   ]
  },
  {
   "cell_type": "code",
   "execution_count": 60,
   "id": "52e743fa-43fd-42a5-bcba-87ed0ccca2ed",
   "metadata": {},
   "outputs": [
    {
     "name": "stdout",
     "output_type": "stream",
     "text": [
      "bool(a) = True\n"
     ]
    }
   ],
   "source": [
    "print(f'{bool(a) = }')"
   ]
  },
  {
   "cell_type": "code",
   "execution_count": 62,
   "id": "8cab8b1d-bea8-4ff5-9f09-8efeeb998b8b",
   "metadata": {},
   "outputs": [
    {
     "name": "stdout",
     "output_type": "stream",
     "text": [
      "my_var = 'This is new str var'\n"
     ]
    }
   ],
   "source": [
    "print(f'{my_var = }')  # ≡ print(f'my_var = {my_var}')"
   ]
  },
  {
   "cell_type": "code",
   "execution_count": null,
   "id": "597de4b7-bd7c-4d44-bc8e-1de13239ed0b",
   "metadata": {},
   "outputs": [],
   "source": []
  }
 ],
 "metadata": {
  "kernelspec": {
   "display_name": "PythonLab",
   "language": "python",
   "name": "pythonlab"
  },
  "language_info": {
   "codemirror_mode": {
    "name": "ipython",
    "version": 3
   },
   "file_extension": ".py",
   "mimetype": "text/x-python",
   "name": "python",
   "nbconvert_exporter": "python",
   "pygments_lexer": "ipython3",
   "version": "3.11.8"
  }
 },
 "nbformat": 4,
 "nbformat_minor": 5
}
