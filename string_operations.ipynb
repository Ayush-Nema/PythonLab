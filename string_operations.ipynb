{
 "cells": [
  {
   "cell_type": "markdown",
   "id": "8e00591a-b799-4fd6-b94f-12acf9ff54d0",
   "metadata": {},
   "source": [
    "# String operations  \n",
    "\n",
    "Curation of some cools string operations"
   ]
  },
  {
   "cell_type": "markdown",
   "id": "872a6594-11ab-4262-9168-a8beb9abae32",
   "metadata": {},
   "source": [
    "## **Trick 1:** Viewing bigger numbers (ints)"
   ]
  },
  {
   "cell_type": "code",
   "execution_count": 53,
   "id": "1ba976ac-29f1-46b8-bb14-e7c9fb2c2b3d",
   "metadata": {},
   "outputs": [
    {
     "name": "stdout",
     "output_type": "stream",
     "text": [
      "1000000000\n"
     ]
    }
   ],
   "source": [
    "n: int = 1_000_000_000\n",
    "m: float = 1e9\n",
    "\n",
    "print(n)"
   ]
  },
  {
   "cell_type": "code",
   "execution_count": 54,
   "id": "c1b53cba-806b-45cb-8c11-be9e8551a71f",
   "metadata": {},
   "outputs": [
    {
     "name": "stdout",
     "output_type": "stream",
     "text": [
      "1_000_000_000\n"
     ]
    }
   ],
   "source": [
    "print(f'{n:_}')"
   ]
  },
  {
   "cell_type": "code",
   "execution_count": 55,
   "id": "5c29ffed-3f3b-4bc0-a649-ad5d38b64095",
   "metadata": {},
   "outputs": [
    {
     "name": "stdout",
     "output_type": "stream",
     "text": [
      "1,000,000,000\n"
     ]
    }
   ],
   "source": [
    "print(f'{n:,}')"
   ]
  },
  {
   "cell_type": "markdown",
   "id": "3c7a60db-a03e-4630-b13c-71d827c22bb4",
   "metadata": {},
   "source": [
    "### Printing as Scientific notation"
   ]
  },
  {
   "cell_type": "code",
   "execution_count": 56,
   "id": "dcb982df-762f-460b-b740-e1c53378cd0b",
   "metadata": {},
   "outputs": [
    {
     "name": "stdout",
     "output_type": "stream",
     "text": [
      "1780000000\n"
     ]
    }
   ],
   "source": [
    "big_num: int = 1_780_000_000\n",
    "print(big_num)"
   ]
  },
  {
   "cell_type": "code",
   "execution_count": 57,
   "id": "ed8a8d39-5833-4f93-af70-ce4bf9ca0f96",
   "metadata": {},
   "outputs": [
    {
     "name": "stdout",
     "output_type": "stream",
     "text": [
      "1.780000e+09\n"
     ]
    }
   ],
   "source": [
    "# Printing in scientific notation\n",
    "print(f\"{big_num:e}\")"
   ]
  },
  {
   "cell_type": "code",
   "execution_count": 58,
   "id": "f8a60f37-6c2e-43c5-8b1e-6e320fb009c1",
   "metadata": {},
   "outputs": [
    {
     "name": "stdout",
     "output_type": "stream",
     "text": [
      "1.78e+09\n"
     ]
    }
   ],
   "source": [
    "# Constrained decimal places\n",
    "print(f\"{big_num:.2e}\")  # ≡ big_num: float = 1.78e9"
   ]
  },
  {
   "cell_type": "code",
   "execution_count": null,
   "id": "ba69ace8-3967-47cf-8191-03f3ea7b9cf4",
   "metadata": {},
   "outputs": [],
   "source": []
  },
  {
   "cell_type": "markdown",
   "id": "c2852930-3901-4a53-a8d1-5a2f79094ab8",
   "metadata": {},
   "source": [
    "## **Trick 2:** String alignment while `stdout`"
   ]
  },
  {
   "cell_type": "code",
   "execution_count": 59,
   "id": "0c70df79-fa5b-4334-9e91-2141aea1fb5e",
   "metadata": {},
   "outputs": [
    {
     "name": "stdout",
     "output_type": "stream",
     "text": [
      "foo\n"
     ]
    }
   ],
   "source": [
    "var: str = 'foo'\n",
    "print(var)  # basic left aligned printing"
   ]
  },
  {
   "cell_type": "markdown",
   "id": "190cbc65-0d18-442b-8d03-f38dcfd84101",
   "metadata": {},
   "source": [
    "### **Alignment**\n",
    "#### Right align text"
   ]
  },
  {
   "cell_type": "code",
   "execution_count": 60,
   "id": "35103b05-a920-4d36-be3a-399749c79459",
   "metadata": {},
   "outputs": [
    {
     "name": "stdout",
     "output_type": "stream",
     "text": [
      "                 foo\n",
      "                 foo:\n"
     ]
    }
   ],
   "source": [
    "# Right aligned printing\n",
    "# Since the variable here is `foo` which consumes 3 spaces. The final ouput will be aligned 17 (20 -3) spaces to the right.\n",
    "print(f\"{var:>20}\")  # consumes 20 characters of space\n",
    "print(f\"{var:>20}:\")"
   ]
  },
  {
   "cell_type": "markdown",
   "id": "a5dc90d5-18d8-4948-81b7-d1d3d31e3932",
   "metadata": {},
   "source": [
    "#### Left align text"
   ]
  },
  {
   "cell_type": "code",
   "execution_count": 61,
   "id": "013b49e2-7ac3-4962-8db5-150e01ce6da3",
   "metadata": {},
   "outputs": [
    {
     "name": "stdout",
     "output_type": "stream",
     "text": [
      "foo                 \n",
      "foo                 :\n"
     ]
    }
   ],
   "source": [
    "# Default left alignment\n",
    "print(f\"{var:<20}\")\n",
    "print(f\"{var:<20}:\")  # ≡ f\"var:20}:\""
   ]
  },
  {
   "cell_type": "markdown",
   "id": "0b8a88aa-8903-4e44-afcb-7e1a61b77cc1",
   "metadata": {},
   "source": [
    "#### Centre align text"
   ]
  },
  {
   "cell_type": "code",
   "execution_count": 62,
   "id": "e10ad9a1-29a2-4d53-b0ab-f92693f6b46f",
   "metadata": {},
   "outputs": [
    {
     "name": "stdout",
     "output_type": "stream",
     "text": [
      "        foo         :\n"
     ]
    }
   ],
   "source": [
    "print(f\"{var:^20}:\")"
   ]
  },
  {
   "cell_type": "markdown",
   "id": "67b910cf-3dc9-462b-ba07-d5fef7bd7190",
   "metadata": {},
   "source": [
    "### **Alignment with space fillers**"
   ]
  },
  {
   "cell_type": "markdown",
   "id": "f6e4cbcf-24f0-4021-95f8-b271345f1c9e",
   "metadata": {},
   "source": [
    "#### No filler (default)"
   ]
  },
  {
   "cell_type": "code",
   "execution_count": 63,
   "id": "25640f4f-e519-4e41-8840-6df83ad1f3d9",
   "metadata": {},
   "outputs": [
    {
     "name": "stdout",
     "output_type": "stream",
     "text": [
      "                 foo:\n"
     ]
    }
   ],
   "source": [
    "print(f\"{var:>20}:\")"
   ]
  },
  {
   "cell_type": "markdown",
   "id": "754a186d-bd8d-41a3-bdb8-2b758eeb4e5c",
   "metadata": {},
   "source": [
    "#### Fill with underscore `(_)`"
   ]
  },
  {
   "cell_type": "code",
   "execution_count": 64,
   "id": "61e4ec37-4ead-45f0-956e-6bc57a493c89",
   "metadata": {},
   "outputs": [
    {
     "name": "stdout",
     "output_type": "stream",
     "text": [
      "_________________foo:\n",
      "________foo_________:\n"
     ]
    }
   ],
   "source": [
    "print(f\"{var:_>20}:\")\n",
    "print(f\"{var:_^20}:\")"
   ]
  },
  {
   "cell_type": "markdown",
   "id": "702abdf4-cbcd-47c1-9efa-9f290ff6af4b",
   "metadata": {},
   "source": [
    "#### Fill with hash symbol `(#)`"
   ]
  },
  {
   "cell_type": "code",
   "execution_count": 65,
   "id": "980c678c-68af-4a82-b3c3-d0c06764b2a8",
   "metadata": {},
   "outputs": [
    {
     "name": "stdout",
     "output_type": "stream",
     "text": [
      "#################foo:\n",
      "########foo#########:\n"
     ]
    }
   ],
   "source": [
    "print(f\"{var:#>20}:\")\n",
    "print(f\"{var:#^20}:\")"
   ]
  },
  {
   "cell_type": "markdown",
   "id": "891dbfc2-fdec-4dad-a6c0-108d1759ae61",
   "metadata": {},
   "source": [
    "#### Fill with pipe symbol `(|)`"
   ]
  },
  {
   "cell_type": "code",
   "execution_count": 66,
   "id": "c83dce3d-5905-4877-9d2d-9921504cd234",
   "metadata": {},
   "outputs": [
    {
     "name": "stdout",
     "output_type": "stream",
     "text": [
      "|||||||||||||||||foo:\n",
      "||||||||foo|||||||||:\n"
     ]
    }
   ],
   "source": [
    "print(f\"{var:|>20}:\")\n",
    "print(f\"{var:|^20}:\")"
   ]
  },
  {
   "cell_type": "code",
   "execution_count": null,
   "id": "036ba45e-3be9-4773-bc0b-2bfc1c29c684",
   "metadata": {},
   "outputs": [],
   "source": []
  },
  {
   "cell_type": "markdown",
   "id": "3f59df53-54aa-45b0-aec1-96dba4f7c849",
   "metadata": {},
   "source": [
    "## **Trick 3:** Formatting `datetime` information\n",
    "\n",
    "Read more about format specifiers here: [Click here](https://docs.python.org/3/library/datetime.html#strftime-and-strptime-format-codes)"
   ]
  },
  {
   "cell_type": "code",
   "execution_count": 67,
   "id": "b7c22706-b64d-4bb4-a6f5-e7cf35fc00ee",
   "metadata": {},
   "outputs": [
    {
     "name": "stdout",
     "output_type": "stream",
     "text": [
      "2024-03-26 17:05:06.858183\n"
     ]
    }
   ],
   "source": [
    "from datetime import datetime\n",
    "now: datetime = datetime.now()\n",
    "\n",
    "print(now)"
   ]
  },
  {
   "cell_type": "markdown",
   "id": "933d7319-e772-4b89-98d8-e6639a9375c2",
   "metadata": {},
   "source": [
    "#### Specifying the `datetime` format"
   ]
  },
  {
   "cell_type": "code",
   "execution_count": 68,
   "id": "ad16b84e-06dd-426b-8376-ec95aeedb6d0",
   "metadata": {},
   "outputs": [
    {
     "name": "stdout",
     "output_type": "stream",
     "text": [
      "26.03.24\n"
     ]
    }
   ],
   "source": [
    "# Formatting date\n",
    "print(f\"{now:%d.%m.%y}\")"
   ]
  },
  {
   "cell_type": "code",
   "execution_count": 69,
   "id": "ce888735-1c69-4e2a-9229-8124a361e857",
   "metadata": {},
   "outputs": [
    {
     "name": "stdout",
     "output_type": "stream",
     "text": [
      "26.03.24 (17:05:06 PM)\n"
     ]
    }
   ],
   "source": [
    "# Providing date as well as time in given format\n",
    "print(f\"{now:%d.%m.%y (%H:%M:%S %p)}\")"
   ]
  },
  {
   "cell_type": "markdown",
   "id": "75e62a47-1a93-4311-a6fe-67fe27f0a1e6",
   "metadata": {},
   "source": [
    "#### Getting local time"
   ]
  },
  {
   "cell_type": "code",
   "execution_count": 70,
   "id": "e1450de5-a2cc-445a-b8da-6705d42f0fce",
   "metadata": {},
   "outputs": [
    {
     "name": "stdout",
     "output_type": "stream",
     "text": [
      "Tue Mar 26 17:05:06 2024\n"
     ]
    }
   ],
   "source": [
    "print(f\"{now:%c}\")"
   ]
  },
  {
   "cell_type": "code",
   "execution_count": 71,
   "id": "a3612dcd-226a-4c04-b398-a1ba14e3a630",
   "metadata": {},
   "outputs": [
    {
     "name": "stdout",
     "output_type": "stream",
     "text": [
      "05PM\n"
     ]
    }
   ],
   "source": [
    "# Only hour information with AM/PM\n",
    "print(f\"{now:%I%p}\")"
   ]
  },
  {
   "cell_type": "code",
   "execution_count": null,
   "id": "7cf4e31d-c721-4699-a813-f671d47ddfb2",
   "metadata": {},
   "outputs": [],
   "source": []
  },
  {
   "cell_type": "markdown",
   "id": "17b2cef1-1417-4eb2-a5b2-164e6701db96",
   "metadata": {},
   "source": [
    "### `datetime` specifiers as variables"
   ]
  },
  {
   "cell_type": "code",
   "execution_count": 72,
   "id": "1883e01a-c0e6-45b8-a73f-58cb17eadb15",
   "metadata": {},
   "outputs": [
    {
     "name": "stdout",
     "output_type": "stream",
     "text": [
      " 26.03.24\n"
     ]
    }
   ],
   "source": [
    "date_spec: str = '%d.%m.%y'\n",
    "print(f\"{now: {date_spec}}\")  # pay attention on nesting of f-string"
   ]
  },
  {
   "cell_type": "code",
   "execution_count": 73,
   "id": "34c1bd5d-806c-42db-bd9a-e2d0386e5bdd",
   "metadata": {},
   "outputs": [
    {
     "name": "stdout",
     "output_type": "stream",
     "text": [
      " 10,000,000.12\n"
     ]
    }
   ],
   "source": [
    "num_ex: float = 10000000.12345678\n",
    "num_spec: str = ',.2f'\n",
    "print(f\"{num_ex: {num_spec}}\")"
   ]
  },
  {
   "cell_type": "code",
   "execution_count": null,
   "id": "15a68387-ff8e-45b1-9bc0-cc65a976344e",
   "metadata": {},
   "outputs": [],
   "source": []
  },
  {
   "cell_type": "markdown",
   "id": "d4558ab3-527c-41b1-bad2-94d273dd9ec3",
   "metadata": {},
   "source": [
    "## **Trick 4:** Formatting `float`"
   ]
  },
  {
   "cell_type": "code",
   "execution_count": 74,
   "id": "bd04d3e1-5ba5-40c5-9610-7f99a3dae3f9",
   "metadata": {},
   "outputs": [
    {
     "name": "stdout",
     "output_type": "stream",
     "text": [
      "1234.5678901234\n"
     ]
    }
   ],
   "source": [
    "n_num: float = 1234.5678901234\n",
    "print(n_num)"
   ]
  },
  {
   "cell_type": "markdown",
   "id": "0135ce19-98bf-4c7f-83a5-c421b47c82a6",
   "metadata": {},
   "source": [
    "#### Rounding off the float (useful for print operations)"
   ]
  },
  {
   "cell_type": "code",
   "execution_count": 75,
   "id": "f507fa54-0089-4714-b528-d0aa7fe0cd80",
   "metadata": {},
   "outputs": [
    {
     "name": "stdout",
     "output_type": "stream",
     "text": [
      "1234.57\n"
     ]
    }
   ],
   "source": [
    "# Alternate #1\n",
    "print(round(n_num, 2))"
   ]
  },
  {
   "cell_type": "code",
   "execution_count": 76,
   "id": "e3f06065-04bd-4baf-af7c-4e194d8a1985",
   "metadata": {},
   "outputs": [
    {
     "name": "stdout",
     "output_type": "stream",
     "text": [
      "1234.57\n",
      "1235\n"
     ]
    }
   ],
   "source": [
    "# Alternate #2\n",
    "print(f\"{n_num:.2f}\")  # round the variable to 2 decimal places\n",
    "print(f\"{n_num:.0f}\")  # complete round off"
   ]
  },
  {
   "cell_type": "markdown",
   "id": "0a30a702-4d5a-4428-bc79-795cbb4243c1",
   "metadata": {},
   "source": [
    "#### Inserting separator"
   ]
  },
  {
   "cell_type": "code",
   "execution_count": 77,
   "id": "9c605a48-a8c7-4193-b822-356f08b61df1",
   "metadata": {},
   "outputs": [
    {
     "name": "stdout",
     "output_type": "stream",
     "text": [
      "1,234.568\n"
     ]
    }
   ],
   "source": [
    "print(f\"{n_num:,.3f}\")"
   ]
  },
  {
   "cell_type": "code",
   "execution_count": 78,
   "id": "86367d68-0d75-4f63-ae46-cc4b1fa17dc2",
   "metadata": {},
   "outputs": [
    {
     "name": "stdout",
     "output_type": "stream",
     "text": [
      "1_234.568\n"
     ]
    }
   ],
   "source": [
    "print(f\"{n_num:_.3f}\")"
   ]
  },
  {
   "cell_type": "code",
   "execution_count": null,
   "id": "b3b537b7-c8fe-4f7b-86ed-2e693013be79",
   "metadata": {},
   "outputs": [],
   "source": []
  },
  {
   "cell_type": "markdown",
   "id": "990f39d9-25c5-4107-964b-ca46cdb08374",
   "metadata": {},
   "source": [
    "## **Trick 5:** Debugging made easy\n",
    "\n",
    "Note: The use-cases are _limited_ for this but maybe useful some day"
   ]
  },
  {
   "cell_type": "code",
   "execution_count": 79,
   "id": "6f43d410-9ced-4335-bfea-aabc4b7cb7f0",
   "metadata": {},
   "outputs": [
    {
     "name": "stdout",
     "output_type": "stream",
     "text": [
      "a + b = 15\n"
     ]
    }
   ],
   "source": [
    "a: int = 5\n",
    "b: int = 10\n",
    "my_var: str = 'This is new str var'\n",
    "\n",
    "print(f'a + b = {a+b}')"
   ]
  },
  {
   "cell_type": "code",
   "execution_count": 80,
   "id": "59fe88fa-98df-4727-a336-fa0ac959eb30",
   "metadata": {},
   "outputs": [
    {
     "name": "stdout",
     "output_type": "stream",
     "text": [
      "a + b = 15\n",
      "a + b =15\n"
     ]
    }
   ],
   "source": [
    "print(f'{a + b = }')\n",
    "print(f'{a + b =}')"
   ]
  },
  {
   "cell_type": "code",
   "execution_count": 81,
   "id": "52e743fa-43fd-42a5-bcba-87ed0ccca2ed",
   "metadata": {},
   "outputs": [
    {
     "name": "stdout",
     "output_type": "stream",
     "text": [
      "bool(a) = True\n"
     ]
    }
   ],
   "source": [
    "print(f'{bool(a) = }')"
   ]
  },
  {
   "cell_type": "code",
   "execution_count": 82,
   "id": "8cab8b1d-bea8-4ff5-9f09-8efeeb998b8b",
   "metadata": {},
   "outputs": [
    {
     "name": "stdout",
     "output_type": "stream",
     "text": [
      "my_var = 'This is new str var'\n"
     ]
    }
   ],
   "source": [
    "print(f'{my_var = }')  # ≡ print(f'my_var = {my_var}')"
   ]
  },
  {
   "cell_type": "markdown",
   "id": "3ffe130c-93ac-4328-a40c-580bd8028a5d",
   "metadata": {},
   "source": [
    "### Quicker debugging meets format specifiers"
   ]
  },
  {
   "cell_type": "code",
   "execution_count": 83,
   "id": "85e5451d-5f89-4a0f-aff5-ad2cb3480880",
   "metadata": {},
   "outputs": [
    {
     "name": "stdout",
     "output_type": "stream",
     "text": [
      "a + b = 0.30000000000000004\n"
     ]
    }
   ],
   "source": [
    "a: float = 0.1\n",
    "b: float = 0.2\n",
    "\n",
    "print(f\"{a + b = }\")  # ugly ouput"
   ]
  },
  {
   "cell_type": "code",
   "execution_count": 84,
   "id": "9c0392bf-d1a4-4b10-9387-b11c2fc75e0b",
   "metadata": {},
   "outputs": [
    {
     "name": "stdout",
     "output_type": "stream",
     "text": [
      "a + b = 0.3\n"
     ]
    }
   ],
   "source": [
    "print(f\"{a + b = :.1f}\")"
   ]
  },
  {
   "cell_type": "markdown",
   "id": "038802f5-eded-4dec-943a-6ae094439d0d",
   "metadata": {},
   "source": [
    "#### string representation Vs. string type"
   ]
  },
  {
   "cell_type": "code",
   "execution_count": 85,
   "id": "5c875724-c59b-44d9-bc5e-b427e3e309c7",
   "metadata": {},
   "outputs": [
    {
     "name": "stdout",
     "output_type": "stream",
     "text": [
      "ex_name = 'John Doe'\n"
     ]
    }
   ],
   "source": [
    "ex_name: str = 'John Doe'\n",
    "print(f'{ex_name = }')  # string representation. More descriptive in understanding."
   ]
  },
  {
   "cell_type": "code",
   "execution_count": 86,
   "id": "f19784e7-bdb0-4acd-9442-ca48814ab1ec",
   "metadata": {},
   "outputs": [
    {
     "name": "stdout",
     "output_type": "stream",
     "text": [
      "ex_name = John Doe\n"
     ]
    }
   ],
   "source": [
    "print(f'{ex_name = !s}')  # `!s` says to Python to interpret the variable as string object "
   ]
  },
  {
   "cell_type": "code",
   "execution_count": null,
   "id": "a776717f-0b5f-464a-a03f-3144b7ff7b9f",
   "metadata": {},
   "outputs": [],
   "source": []
  },
  {
   "cell_type": "markdown",
   "id": "526dfadf-ef53-48ac-9d33-3e38eddbbbf2",
   "metadata": {},
   "source": [
    "## **Trick 6:** Escaping escape character\n",
    "\n",
    "Sometimes the sting contains forward slash (`\\`) which also acts as escape character in Python. In the worst case, the string might be escaped as Python might consider it as unicode characters. Thus we use `r` prefix before the string to convert it to raw string, thus safeguard from unknown mishaps.  \n",
    "Same operation can also be performed with `f` string."
   ]
  },
  {
   "cell_type": "code",
   "execution_count": 87,
   "id": "bd776212-be77-4550-9abe-82d9ffd13fcd",
   "metadata": {},
   "outputs": [
    {
     "ename": "SyntaxError",
     "evalue": "(unicode error) 'unicodeescape' codec can't decode bytes in position 0-1: truncated \\UXXXXXXXX escape (3459587238.py, line 1)",
     "output_type": "error",
     "traceback": [
      "\u001b[0;36m  Cell \u001b[0;32mIn[87], line 1\u001b[0;36m\u001b[0m\n\u001b[0;31m    ex_path: str = '\\Users\\thunder_machine\\Documents\\current_directory'\u001b[0m\n\u001b[0m                                                                       ^\u001b[0m\n\u001b[0;31mSyntaxError\u001b[0m\u001b[0;31m:\u001b[0m (unicode error) 'unicodeescape' codec can't decode bytes in position 0-1: truncated \\UXXXXXXXX escape\n"
     ]
    }
   ],
   "source": [
    "ex_path: str = '\\Users\\thunder_machine\\Documents\\current_directory'\n",
    "print(ex_path)"
   ]
  },
  {
   "cell_type": "code",
   "execution_count": 88,
   "id": "b9bf7711-b41e-4de2-a58f-87cc1dc5df30",
   "metadata": {},
   "outputs": [
    {
     "name": "stdout",
     "output_type": "stream",
     "text": [
      "\\Users\\thunder_machine\\Documents\\current_directory\n"
     ]
    }
   ],
   "source": [
    "# Convert to raw string\n",
    "ex_path: str = r'\\Users\\thunder_machine\\Documents\\current_directory'\n",
    "print(ex_path)"
   ]
  },
  {
   "cell_type": "markdown",
   "id": "2b050ca3-ed8e-4f49-8d52-00af3f8285b9",
   "metadata": {},
   "source": [
    "#### The `fr` (or `rf`) string format\n",
    "\n",
    "Note: `rf` and `fr` can be interchanged"
   ]
  },
  {
   "cell_type": "code",
   "execution_count": 89,
   "id": "e1c2d920-7cf0-49e1-bdd2-d018996cc882",
   "metadata": {},
   "outputs": [
    {
     "name": "stdout",
     "output_type": "stream",
     "text": [
      "\\Users\\thunder_machine\\Documents\\pyenvs\n"
     ]
    }
   ],
   "source": [
    "dynamic_dir: str = 'pyenvs'\n",
    "target_path = fr'\\Users\\thunder_machine\\Documents\\{dynamic_dir}'\n",
    "# target_path = rf'\\Users\\thunder_machine\\Documents\\{dynamic_dir}'\n",
    "print(target_path)"
   ]
  },
  {
   "cell_type": "code",
   "execution_count": null,
   "id": "bcd062a5-b775-41a0-9518-d8e97df02445",
   "metadata": {},
   "outputs": [],
   "source": []
  },
  {
   "cell_type": "markdown",
   "id": "b85577cd-306b-475c-8eca-83cf02e949b7",
   "metadata": {},
   "source": [
    "## **Trick 7:** `!s`, `!a`, `!r` statements"
   ]
  },
  {
   "cell_type": "code",
   "execution_count": 90,
   "id": "e6569a95-2ec1-427b-8b97-b6a867cc37b2",
   "metadata": {},
   "outputs": [],
   "source": [
    "from datetime import datetime, date\n",
    "\n",
    "apple: str = '🍎'\n",
    "ex_name: str = 'John Doe'\n",
    "today: date = datetime.now().date()"
   ]
  },
  {
   "cell_type": "code",
   "execution_count": 91,
   "id": "a53b76e8-522d-4b94-8fb1-0d64000e15e2",
   "metadata": {},
   "outputs": [
    {
     "name": "stdout",
     "output_type": "stream",
     "text": [
      "[2024-03-26] John Doe says: 🍎\n"
     ]
    }
   ],
   "source": [
    "# string representation for all variables\n",
    "print(f'[{today!s}] {ex_name!s} says: {apple!s}')"
   ]
  },
  {
   "cell_type": "code",
   "execution_count": 92,
   "id": "cfcb9782-371a-4dbb-b229-e532c0895811",
   "metadata": {},
   "outputs": [
    {
     "name": "stdout",
     "output_type": "stream",
     "text": [
      "[datetime.date(2024, 3, 26)] 'John Doe' says: '🍎'\n"
     ]
    }
   ],
   "source": [
    "# representation of each variable\n",
    "print(f'[{today!r}] {ex_name!r} says: {apple!r}')"
   ]
  },
  {
   "cell_type": "code",
   "execution_count": 93,
   "id": "44b235a2-6d3b-4e99-aad4-d060bea24014",
   "metadata": {},
   "outputs": [
    {
     "name": "stdout",
     "output_type": "stream",
     "text": [
      "[datetime.date(2024, 3, 26)] 'John Doe' says: '\\U0001f34e'\n"
     ]
    }
   ],
   "source": [
    "# ASCII representation\n",
    "print(f'[{today!a}] {ex_name!a} says: {apple!a}')"
   ]
  },
  {
   "cell_type": "code",
   "execution_count": null,
   "id": "4a3047ec-daac-434d-9dfc-3afc95b0b8de",
   "metadata": {},
   "outputs": [],
   "source": []
  }
 ],
 "metadata": {
  "kernelspec": {
   "display_name": "PythonLab",
   "language": "python",
   "name": "pythonlab"
  },
  "language_info": {
   "codemirror_mode": {
    "name": "ipython",
    "version": 3
   },
   "file_extension": ".py",
   "mimetype": "text/x-python",
   "name": "python",
   "nbconvert_exporter": "python",
   "pygments_lexer": "ipython3",
   "version": "3.11.8"
  }
 },
 "nbformat": 4,
 "nbformat_minor": 5
}
