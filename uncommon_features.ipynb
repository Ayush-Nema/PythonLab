{
 "cells": [
  {
   "cell_type": "markdown",
   "id": "10d58614-eb78-4471-816a-a41d950d9069",
   "metadata": {},
   "source": [
    "## **Trick #1:** Slice operator"
   ]
  },
  {
   "cell_type": "code",
   "execution_count": 1,
   "id": "80d3f47f-88c4-489d-a975-8074a12ec2f2",
   "metadata": {},
   "outputs": [
    {
     "name": "stdout",
     "output_type": "stream",
     "text": [
      "[10, 9, 8, 7, 6, 5, 4, 3, 2, 1]\n",
      "!dlrow ,olleH\n"
     ]
    }
   ],
   "source": [
    "# Define some iterables\n",
    "numbers: list[int] = list(range(1, 11))\n",
    "text: str = 'Hello, world!'\n",
    "\n",
    "# Reversing the iterables\n",
    "print(numbers[::-1])\n",
    "print(text[::-1])"
   ]
  },
  {
   "cell_type": "markdown",
   "id": "4b883ce1-b1ea-446d-92db-6492d37becd4",
   "metadata": {},
   "source": [
    "If we want to perform the slicing operations several times then use of `::-1` might be repeatitive and hard to understand.  \n",
    "Let's see the alternative.\n"
   ]
  },
  {
   "cell_type": "code",
   "execution_count": 2,
   "id": "9e6b5a30-c9f5-4b0e-ba70-ac35107ce19f",
   "metadata": {},
   "outputs": [
    {
     "name": "stdout",
     "output_type": "stream",
     "text": [
      "[10, 9, 8, 7, 6, 5, 4, 3, 2, 1]\n",
      "!dlrow ,olleH\n"
     ]
    }
   ],
   "source": [
    "rev: slice = slice(None, None, -1)\n",
    "print(numbers[rev])\n",
    "print(text[rev])"
   ]
  },
  {
   "cell_type": "code",
   "execution_count": 3,
   "id": "d6fad5f9-83b4-43f5-9729-d7a701701d5a",
   "metadata": {},
   "outputs": [
    {
     "name": "stdout",
     "output_type": "stream",
     "text": [
      "[10, 8, 6, 4, 2]\n",
      "!lo olH\n"
     ]
    }
   ],
   "source": [
    "# reversing with a step of 2\n",
    "rev: slice = slice(None, None, -2)\n",
    "print(numbers[rev])\n",
    "print(text[rev])"
   ]
  },
  {
   "cell_type": "code",
   "execution_count": 4,
   "id": "5d2a9c24-b91c-4162-9ac5-afa726a7b6ae",
   "metadata": {},
   "outputs": [
    {
     "name": "stdout",
     "output_type": "stream",
     "text": [
      "[1, 2, 3, 4, 5]\n",
      "Hello\n"
     ]
    }
   ],
   "source": [
    "# getting 1st 5 elements\n",
    "f_five: slice = slice(None, 5)\n",
    "print(numbers[f_five])\n",
    "print(text[f_five])"
   ]
  },
  {
   "cell_type": "code",
   "execution_count": null,
   "id": "51c60b62-35f9-45d1-89de-9c6d1c4873ba",
   "metadata": {},
   "outputs": [],
   "source": []
  },
  {
   "cell_type": "markdown",
   "id": "5b0ea8a1-a430-4e56-9bb8-2a4bdf62d4c4",
   "metadata": {},
   "source": [
    "## **Trick #2:** Set operations"
   ]
  },
  {
   "cell_type": "code",
   "execution_count": 5,
   "id": "9ab67687-46b7-4c5e-8c40-b0c7a9ebf580",
   "metadata": {},
   "outputs": [],
   "source": [
    "set_a: set[int] = {1, 2, 3, 4, 5}\n",
    "set_b: set[int] = {4, 5, 6, 7, 8}"
   ]
  },
  {
   "cell_type": "code",
   "execution_count": 6,
   "id": "1f3a0448-6ab8-477d-a9f0-6d25aadb8cb1",
   "metadata": {},
   "outputs": [
    {
     "name": "stdout",
     "output_type": "stream",
     "text": [
      "{1, 2, 3, 4, 5, 6, 7, 8}\n",
      "-------- Vs --------\n",
      "{1, 2, 3, 4, 5, 6, 7, 8}\n"
     ]
    }
   ],
   "source": [
    "# Union\n",
    "print(set_a.union(set_b))\n",
    "print('-------- Vs --------')\n",
    "print(set_a | set_b)"
   ]
  },
  {
   "cell_type": "code",
   "execution_count": 7,
   "id": "9f1e38fa-6ab3-4f0b-8104-e15839ec3eb2",
   "metadata": {},
   "outputs": [
    {
     "name": "stdout",
     "output_type": "stream",
     "text": [
      "{1, 2, 3}\n",
      "-------- Vs --------\n",
      "{1, 2, 3}\n",
      "\n",
      "\n",
      "{8, 6, 7}\n",
      "-------- Vs --------\n",
      "{8, 6, 7}\n"
     ]
    }
   ],
   "source": [
    "# Difference\n",
    "print(set_a.difference(set_b))\n",
    "print('-------- Vs --------')\n",
    "print(set_a - set_b)\n",
    "\n",
    "print('\\n')\n",
    "print(set_b.difference(set_a))\n",
    "print('-------- Vs --------')\n",
    "print(set_b - set_a)"
   ]
  },
  {
   "cell_type": "code",
   "execution_count": 8,
   "id": "3b882a3e-9cd7-43af-a31d-70a88d655431",
   "metadata": {},
   "outputs": [
    {
     "name": "stdout",
     "output_type": "stream",
     "text": [
      "{4, 5}\n",
      "-------- Vs --------\n",
      "{4, 5}\n"
     ]
    }
   ],
   "source": [
    "# Intersection\n",
    "print(set_a.intersection(set_b))\n",
    "print('-------- Vs --------')\n",
    "print(set_a & set_b)"
   ]
  },
  {
   "cell_type": "code",
   "execution_count": 9,
   "id": "d61f0bd2-238b-4baf-a9a5-a0a0df4fd9a2",
   "metadata": {},
   "outputs": [
    {
     "name": "stdout",
     "output_type": "stream",
     "text": [
      "{1, 2, 3, 6, 7, 8}\n",
      "-------- Vs --------\n",
      "{1, 2, 3, 6, 7, 8}\n"
     ]
    }
   ],
   "source": [
    "# unique elements\n",
    "print(set_a.symmetric_difference(set_b))\n",
    "print('-------- Vs --------')\n",
    "print(set_a ^ set_b)"
   ]
  },
  {
   "cell_type": "code",
   "execution_count": null,
   "id": "340083ec-2c51-4022-8dd9-e491dbb7429a",
   "metadata": {},
   "outputs": [],
   "source": []
  },
  {
   "cell_type": "markdown",
   "id": "4f43cd1e-48cc-4f44-8fde-489f15408a91",
   "metadata": {},
   "source": [
    "## **Trick #3:** Custom format spcifiers\n",
    "\n",
    "Making the class compatible with F-stings and defining our own F-string specifiers  \n",
    "\n",
    "Demerit:  \n",
    "- Any person reading or using the code will not be able to understand what are valid specifiers without diving into the code.\n",
    "- Unintuitive"
   ]
  },
  {
   "cell_type": "code",
   "execution_count": 10,
   "id": "ce289f84-f743-41ec-87d6-dbf0e8895052",
   "metadata": {},
   "outputs": [],
   "source": [
    "from typing import Any\n",
    "\n",
    "class Book:\n",
    "    def __init__(self, title: str, pages: int) -> None:\n",
    "        self.title = title\n",
    "        self.pages = pages\n",
    "\n",
    "    def __format__(self, format_spec:Any) -> str:\n",
    "        match format_spec:\n",
    "            case 'time':  # time to finish the book, considering 12 pages/hr reading speed\n",
    "                return f'{self.pages / 12:.2f} Hrs'\n",
    "            case 'caps':  # dummy case. Returning the book name in capitals\n",
    "                return self.title.upper()\n",
    "            case _:\n",
    "                return ValueError(f'Unknown specifier the Book()')"
   ]
  },
  {
   "cell_type": "code",
   "execution_count": 11,
   "id": "370bc564-98f4-4a3a-a781-21e478a6c941",
   "metadata": {},
   "outputs": [
    {
     "name": "stdout",
     "output_type": "stream",
     "text": [
      "HARRY POTTER AND THE ORDER OF THE PHOENIX\n",
      "Read time: 58.33 Hrs\n"
     ]
    }
   ],
   "source": [
    "def main() -> None:\n",
    "    harry_potter: Book = Book('Harry Potter and the Order of the Phoenix', 700)\n",
    "    python_daily: Book = Book('Python Daily', 125)\n",
    "\n",
    "    print(f'{harry_potter:caps}')\n",
    "    print(f'Read time: {harry_potter:time}')\n",
    "\n",
    "main()"
   ]
  },
  {
   "cell_type": "code",
   "execution_count": null,
   "id": "5343b032-d26e-4456-8ccd-a7d5dd35aae9",
   "metadata": {},
   "outputs": [],
   "source": []
  },
  {
   "cell_type": "markdown",
   "id": "dca74d15-204e-43dd-acae-d4d927224bf2",
   "metadata": {},
   "source": [
    "## **Trick #4:** Walrus Operator"
   ]
  },
  {
   "cell_type": "markdown",
   "id": "b69cfda2-d0dd-4006-b056-9f97b4be15fe",
   "metadata": {},
   "source": [
    "### **Example-1**"
   ]
  },
  {
   "cell_type": "code",
   "execution_count": 12,
   "id": "8dbbc5b2-22a6-40eb-ac7c-a702d6f4a150",
   "metadata": {},
   "outputs": [
    {
     "name": "stdout",
     "output_type": "stream",
     "text": [
      "No user found...\n"
     ]
    }
   ],
   "source": [
    "users: dict[int, str] = {0: 'Bob', 1: 'Mario'}\n",
    "current_user: str | None = users.get(3)\n",
    "\n",
    "if current_user:\n",
    "    print(f'{current_user} exists!')\n",
    "else:\n",
    "    print('No user found...')"
   ]
  },
  {
   "cell_type": "markdown",
   "id": "2661444b-ad26-4bc8-bcff-91c2329fd279",
   "metadata": {},
   "source": [
    "#### Use of Walrus operator\n",
    "\n",
    "Functioning:\n",
    "Operator 1st evaluates the expression on the right i.e. `users.get(3)` then assigns it to variable (`current_user`) before performing the check"
   ]
  },
  {
   "cell_type": "code",
   "execution_count": 13,
   "id": "6a77919a-742b-487b-ab7d-7b9bc55a1f88",
   "metadata": {},
   "outputs": [
    {
     "name": "stdout",
     "output_type": "stream",
     "text": [
      "No user found...\n"
     ]
    }
   ],
   "source": [
    "users: dict[int, str] = {0: 'Bob', 1: 'Mario'}\n",
    "\n",
    "if current_user := users.get(3):  # users.get(1)\n",
    "    print(f'{current_user} exists!')\n",
    "else:\n",
    "    print('No user found...')"
   ]
  },
  {
   "cell_type": "code",
   "execution_count": null,
   "id": "b53ecbdf-8467-49ab-b461-965228f851a3",
   "metadata": {},
   "outputs": [],
   "source": []
  },
  {
   "cell_type": "markdown",
   "id": "ece7b75a-e8e4-4c52-a88e-cfd506b26d30",
   "metadata": {},
   "source": [
    "### **Example-2**"
   ]
  },
  {
   "cell_type": "code",
   "execution_count": 14,
   "id": "1c56c116-1db1-405b-bc80-6f5049cf7af0",
   "metadata": {},
   "outputs": [],
   "source": [
    "def get_info(text: str) -> dict:\n",
    "    return {\n",
    "        'words': (words := text.split()),\n",
    "        'word_count': len(words),\n",
    "        'character_count': len(''.join(words))\n",
    "        }"
   ]
  },
  {
   "cell_type": "code",
   "execution_count": 15,
   "id": "21af06eb-6238-4944-bb36-07de7b57cd47",
   "metadata": {},
   "outputs": [
    {
     "name": "stdout",
     "output_type": "stream",
     "text": [
      "{'words': ['Bober', 'Kurwa!'], 'word_count': 2, 'character_count': 11}\n"
     ]
    }
   ],
   "source": [
    "print(get_info('Bober Kurwa!'))"
   ]
  },
  {
   "cell_type": "code",
   "execution_count": null,
   "id": "89b87f7c-71d5-431f-a9a2-d98bd68b9868",
   "metadata": {},
   "outputs": [],
   "source": []
  },
  {
   "cell_type": "markdown",
   "id": "241809f6-27a0-4a93-a645-449f60c363fa",
   "metadata": {},
   "source": [
    "## **Trick #5:** Currying\n",
    "\n",
    "Disclaimer:  \n",
    "- `Callable` works similar to `functools.Partial` method.\n",
    "- This approach is recommended for simpler functions. For more complex applications, use `Partial`\n"
   ]
  },
  {
   "cell_type": "code",
   "execution_count": 16,
   "id": "880e52ef-e77b-405e-bfaf-ef7d5f710f5c",
   "metadata": {},
   "outputs": [
    {
     "name": "stdout",
     "output_type": "stream",
     "text": [
      "10\n",
      "6\n",
      "200\n"
     ]
    }
   ],
   "source": [
    "from typing import Callable\n",
    "\n",
    "def multiply_setup(a: float) -> callable:\n",
    "    def multiply(b: float) -> float:\n",
    "        return a * b\n",
    "    \n",
    "    return multiply\n",
    "\n",
    "double: Callable = multiply_setup(2)\n",
    "triple: Callable = multiply_setup(3)\n",
    "\n",
    "print(double(5))\n",
    "print(double(3))\n",
    "print(double(100))"
   ]
  },
  {
   "cell_type": "code",
   "execution_count": null,
   "id": "3ee175c7-1a6e-4f2b-ad70-817d7b31fdc9",
   "metadata": {},
   "outputs": [],
   "source": []
  }
 ],
 "metadata": {
  "kernelspec": {
   "display_name": "PythonLab",
   "language": "python",
   "name": "pythonlab"
  },
  "language_info": {
   "codemirror_mode": {
    "name": "ipython",
    "version": 3
   },
   "file_extension": ".py",
   "mimetype": "text/x-python",
   "name": "python",
   "nbconvert_exporter": "python",
   "pygments_lexer": "ipython3",
   "version": "3.11.8"
  }
 },
 "nbformat": 4,
 "nbformat_minor": 5
}
