{
 "cells": [
  {
   "cell_type": "markdown",
   "id": "d3e78cad-021c-4352-b6b3-8a3f6b54a609",
   "metadata": {},
   "source": [
    "# 1. Avoid Nested Python loops using `product()` function\n",
    "\n",
    "When a program becomes complicated, you inevitably have to write nested loops. However, nested loops will make programs harder to read and maintain.\n",
    "\n",
    "Fortunately, you can always avoid nested loops in Python through the built-in `product()` function from the `itertools` module"
   ]
  },
  {
   "cell_type": "code",
   "execution_count": 1,
   "id": "8ea37554-8046-4357-8f61-9e1d530e52ba",
   "metadata": {},
   "outputs": [
    {
     "name": "stdout",
     "output_type": "stream",
     "text": [
      "70 2000 7\n"
     ]
    }
   ],
   "source": [
    "list_a = [1, 2020, 70]\n",
    "list_b = [2, 4, 7, 2000]\n",
    "list_c = [3, 70, 7]\n",
    "\n",
    "for a in list_a:\n",
    "    for b in list_b:\n",
    "        for c in list_c:\n",
    "            if a + b + c == 2077:\n",
    "                print(a, b, c)"
   ]
  },
  {
   "cell_type": "code",
   "execution_count": 2,
   "id": "4bd33347-6690-4e40-816f-dc2ebd370f47",
   "metadata": {},
   "outputs": [
    {
     "name": "stdout",
     "output_type": "stream",
     "text": [
      "70 2000 7\n"
     ]
    }
   ],
   "source": [
    "from itertools import product\n",
    "\n",
    "list_a = [1, 2020, 70]\n",
    "list_b = [2, 4, 7, 2000]\n",
    "list_c = [3, 70, 7]\n",
    "\n",
    "for a, b, c in product(list_a, list_b, list_c):\n",
    "    if a + b + c == 2077:\n",
    "        print(a, b, c)"
   ]
  },
  {
   "cell_type": "code",
   "execution_count": 3,
   "id": "e92a82cf-c035-4f36-8540-465fd3c7f71d",
   "metadata": {},
   "outputs": [
    {
     "name": "stdout",
     "output_type": "stream",
     "text": [
      "1 2\n",
      "1 4\n",
      "1 7\n",
      "1 2000\n",
      "2020 2\n",
      "2020 4\n",
      "2020 7\n",
      "2020 2000\n",
      "70 2\n",
      "70 4\n",
      "70 7\n",
      "70 2000\n"
     ]
    }
   ],
   "source": [
    "# insider's view\n",
    "for a, b in product(list_a, list_b):\n",
    "    print(a, b)"
   ]
  },
  {
   "cell_type": "code",
   "execution_count": null,
   "id": "724de346-b4c8-4d97-9f65-218d27685bdb",
   "metadata": {},
   "outputs": [],
   "source": []
  },
  {
   "cell_type": "markdown",
   "id": "62cda432-4917-4918-b93a-c2affa606b5d",
   "metadata": {},
   "source": [
    "# 2. Walrus Operator: A Cute Trick for Assignment Expressions\n",
    "\n",
    "Since Python 3.8, there is a new syntax called “walrus operator” that can assign values to variables as part of a larger expression.\n",
    "\n",
    "The operator `:=` got its cute name from the eyes and tusks of a walrus."
   ]
  },
  {
   "cell_type": "code",
   "execution_count": 4,
   "id": "5a385cc4-98ff-43e6-8fdc-db3ffab2bf89",
   "metadata": {},
   "outputs": [
    {
     "data": {
      "text/html": [
       "<img src=\"https://upload.wikimedia.org/wikipedia/commons/thumb/2/22/Pacific_Walrus_-_Bull_%288247646168%29.jpg/2560px-Pacific_Walrus_-_Bull_%288247646168%29.jpg\" width=\"450\" height=\"450\"/>"
      ],
      "text/plain": [
       "<IPython.core.display.Image object>"
      ]
     },
     "execution_count": 4,
     "metadata": {},
     "output_type": "execute_result"
    }
   ],
   "source": [
    "from IPython.display import Image\n",
    "from IPython.core.display import HTML \n",
    "Image(url= \"https://upload.wikimedia.org/wikipedia/commons/thumb/2/22/Pacific_Walrus_-_Bull_%288247646168%29.jpg/2560px-Pacific_Walrus_-_Bull_%288247646168%29.jpg\", width=450, height=450)"
   ]
  },
  {
   "cell_type": "code",
   "execution_count": 5,
   "id": "e53c91a8-ee9f-4a3a-b15d-b58f382c9e55",
   "metadata": {},
   "outputs": [
    {
     "name": "stdout",
     "output_type": "stream",
     "text": [
      "Bob\n"
     ]
    }
   ],
   "source": [
    "author = \"Bob\"\n",
    "print(author)\n",
    "# Bob"
   ]
  },
  {
   "cell_type": "markdown",
   "id": "6c2d57c2-cc1d-4bf0-8f5c-3eaf677e4ba4",
   "metadata": {},
   "source": [
    "Unfortunately, we cannot directly put the assignment into the `print()` function. There will be a `TypeError` if we try it:"
   ]
  },
  {
   "cell_type": "code",
   "execution_count": 6,
   "id": "33decab0-18d7-4b0c-9eeb-8285895fed39",
   "metadata": {},
   "outputs": [],
   "source": [
    "# print(author=\"Bob\")\n",
    "# TypeError: 'author' is an invalid keyword argument for print()"
   ]
  },
  {
   "cell_type": "markdown",
   "id": "f14a3c98-aab0-425e-9f6d-205c6405b5d6",
   "metadata": {},
   "source": [
    "Thanks to the walrus operator, we can really do this in one line:"
   ]
  },
  {
   "cell_type": "code",
   "execution_count": 7,
   "id": "904ea05b-5aa3-421d-8d75-2232794ef4e9",
   "metadata": {},
   "outputs": [
    {
     "name": "stdout",
     "output_type": "stream",
     "text": [
      "Bob\n"
     ]
    }
   ],
   "source": [
    "print(author:=\"Bob\")\n",
    "# Bob"
   ]
  },
  {
   "cell_type": "code",
   "execution_count": null,
   "id": "dec40e04-1afc-4ade-b528-9989b67f2f02",
   "metadata": {},
   "outputs": [],
   "source": []
  },
  {
   "cell_type": "markdown",
   "id": "2fa87dd5-0893-435a-85d7-b8df4323faeb",
   "metadata": {},
   "source": [
    "# 3. Ternary Conditional Operator: Writing a Simple If-Else Structure in One Line\n",
    "\n",
    "The `if-else` conditions are everywhere in the programming world. To make simple logic easy to express, Python provides us with the ternary operator. Simply put, it just allows as put an `if-else` condition in one line:"
   ]
  },
  {
   "cell_type": "code",
   "execution_count": 8,
   "id": "f01f04c0-d9c6-414e-a383-b6de9e23afb4",
   "metadata": {},
   "outputs": [
    {
     "data": {
      "text/plain": [
       "4"
      ]
     },
     "execution_count": 8,
     "metadata": {},
     "output_type": "execute_result"
    }
   ],
   "source": [
    "a = 4\n",
    "b = 9\n",
    "\n",
    "min = a if a < b else b\n",
    "min"
   ]
  },
  {
   "cell_type": "code",
   "execution_count": 9,
   "id": "7d02c36a-315d-4fb5-a4a3-18980648309e",
   "metadata": {},
   "outputs": [
    {
     "data": {
      "text/plain": [
       "4"
      ]
     },
     "execution_count": 9,
     "metadata": {},
     "output_type": "execute_result"
    }
   ],
   "source": [
    "# Longer version of the same code\n",
    "if a<b:\n",
    "  min = a\n",
    "else:\n",
    "  min = b\n",
    "\n",
    "min"
   ]
  },
  {
   "cell_type": "code",
   "execution_count": null,
   "id": "9621d56c-9f98-41d6-9b41-55670f8bf957",
   "metadata": {},
   "outputs": [],
   "source": []
  },
  {
   "cell_type": "markdown",
   "id": "1c1a3dd1-c301-4ccb-930a-bf348dda620a",
   "metadata": {},
   "source": [
    "# 4. Using Lambda Functions To Define Simple Functions\n",
    "\n",
    "If you only want to define a simple function, probably you don’t need to use the traditional syntax for it. The lambda function is a more elegant option."
   ]
  },
  {
   "cell_type": "code",
   "execution_count": 10,
   "id": "9fe55be6-4305-46ba-80b3-be4f33178402",
   "metadata": {},
   "outputs": [
    {
     "data": {
      "text/plain": [
       "55"
      ]
     },
     "execution_count": 10,
     "metadata": {},
     "output_type": "execute_result"
    }
   ],
   "source": [
    "def fib(x):\n",
    "    if x<=1:\n",
    "        return x\n",
    "    else:\n",
    "        return fib(x-1) + fib(x-2)\n",
    "\n",
    "fib(10)"
   ]
  },
  {
   "cell_type": "markdown",
   "id": "1d796eec-4089-4bcb-9f97-ecd0b9d8190f",
   "metadata": {},
   "source": [
    "It works perfectly but the code itself is a bit ugly. Let’s write a one-liner to implement the same function:"
   ]
  },
  {
   "cell_type": "code",
   "execution_count": 11,
   "id": "16185ad5-f50b-42a8-b833-2341c0b2579c",
   "metadata": {},
   "outputs": [
    {
     "data": {
      "text/plain": [
       "55"
      ]
     },
     "execution_count": 11,
     "metadata": {},
     "output_type": "execute_result"
    }
   ],
   "source": [
    "fib1 = lambda x: x if x <= 1 else fib(x - 1) + fib(x - 2)\n",
    "fib1(10)"
   ]
  },
  {
   "cell_type": "code",
   "execution_count": null,
   "id": "d4c48038-2e7f-4787-991a-0d915a2bb058",
   "metadata": {},
   "outputs": [],
   "source": []
  },
  {
   "cell_type": "markdown",
   "id": "20d0158a-9937-4a4f-a03e-ffbb3b1ce136",
   "metadata": {},
   "source": [
    "# 5. List Comprehensions: Get a List in a Pythonic Way\n",
    "\n",
    "To say the list comprehension makes your code elegant is still an understatement. It can save you lots of typing and time but still keep your code readable. Few programming languages can do this."
   ]
  },
  {
   "cell_type": "code",
   "execution_count": 12,
   "id": "806d286a-1e01-49fa-a88e-4b67f3619372",
   "metadata": {},
   "outputs": [
    {
     "name": "stdout",
     "output_type": "stream",
     "text": [
      "['Not Genius', 'Not Genius', 'Not Genius', 'yang']\n"
     ]
    }
   ],
   "source": [
    "Genius = [\"Jerry\", \"Jack\", \"tom\", \"yang\"]\n",
    "L1 = [name if name.startswith('y') else 'Not Genius' for name in Genius]\n",
    "print(L1)\n",
    "# ['Not Genius', 'Not Genius', 'Not Genius', 'yang']"
   ]
  },
  {
   "cell_type": "code",
   "execution_count": null,
   "id": "23ddac14-aa7a-404d-9dc4-4510517e4c45",
   "metadata": {},
   "outputs": [],
   "source": []
  },
  {
   "cell_type": "markdown",
   "id": "3a34dbf2-5a6b-434f-b81e-afd2c9b9083d",
   "metadata": {},
   "source": [
    "# 6. Leveraging the Higher-Order Functions in Python\n",
    "\n",
    "Python has some built-in higher-order functions that give us the convenience to write some common logic.\n",
    "\n",
    "For example, the `map()` function is a famous and frequently-used higher-order function. It receives two parameters, one is a function and the other is an iterable. Executing the map function will apply the function to each element of the iterable."
   ]
  },
  {
   "cell_type": "code",
   "execution_count": 13,
   "id": "f4f185e6-c6c7-4c10-8ed0-54274d613e1a",
   "metadata": {},
   "outputs": [
    {
     "name": "stdout",
     "output_type": "stream",
     "text": [
      "['Yang', 'Mask', 'Thomas', 'Lisa']\n"
     ]
    }
   ],
   "source": [
    "names = ['yAnG', 'MASk', 'thoMas', 'LISA']\n",
    "names = map(str.capitalize, names)\n",
    "print(list(names))\n",
    "# ['Yang', 'Mask', 'Thomas', 'Lisa']"
   ]
  },
  {
   "cell_type": "markdown",
   "id": "2257e5e6-5c5c-4890-bd92-61caec1b8c06",
   "metadata": {},
   "source": [
    "As the above example shows, with the help of the `map()` function, we can avoid writing a for loop to capitalize every word in the names list.\n",
    "\n",
    "Another famous higher-order function is reduce(). As its name implies, it applies a function into an iterable and does the cumulative operation for it.\n",
    "\n",
    "For instance, the following example converts a list into one string:"
   ]
  },
  {
   "cell_type": "code",
   "execution_count": 14,
   "id": "7c4b4e24-f031-4571-bb94-6ccb4a441787",
   "metadata": {},
   "outputs": [
    {
     "name": "stdout",
     "output_type": "stream",
     "text": [
      "London2020\n"
     ]
    }
   ],
   "source": [
    "from functools import reduce\n",
    "\n",
    "city = ['L', 'o', 'n', 'd', 'o', 'n', 2, 0, 2, 0]\n",
    "city_to_str = reduce(lambda x, y: str(x) + str(y), city)\n",
    "print(city_to_str)\n",
    "# London2020"
   ]
  },
  {
   "cell_type": "code",
   "execution_count": null,
   "id": "af81875a-8080-4b63-a519-e81c0c072006",
   "metadata": {},
   "outputs": [],
   "source": []
  },
  {
   "cell_type": "markdown",
   "id": "e0c2cbd9-e4f2-4c41-bb06-f37ecf735a79",
   "metadata": {},
   "source": [
    "# 7. Union Operators: The Easiest Way To Merge Dictionaries\n",
    "\n",
    "Merging dictionaries is a common requirement in daily Python programming. There are many ways to do it. But all of them were ugly before Python 3.9.\n",
    "\n",
    "Since Python 3.9, we finally got the most elegant way for dictionary merging — using union operators."
   ]
  },
  {
   "cell_type": "code",
   "execution_count": 15,
   "id": "050ce0ce-742f-488f-90c8-363bb3949d40",
   "metadata": {},
   "outputs": [
    {
     "name": "stdout",
     "output_type": "stream",
     "text": [
      "{'New York City': 'US', 'Los Angeles': 'US', 'London': 'UK', 'Birmingham': 'UK'}\n"
     ]
    }
   ],
   "source": [
    "cities_us = {'New York City': 'US', 'Los Angeles': 'US'}\n",
    "cities_uk = {'London': 'UK', 'Birmingham': 'UK'}\n",
    "\n",
    "cities = cities_us|cities_uk\n",
    "print(cities)\n",
    "# {'New York City': 'US', 'Los Angeles': 'US', 'London': 'UK', 'Birmingham': 'UK'}"
   ]
  },
  {
   "cell_type": "markdown",
   "id": "ba0249cd-d389-41d0-80f4-fe2768947a54",
   "metadata": {},
   "source": [
    "As the above example shows, we can simply use the `|` operator to merge the two different dictionaries. Even more, it also supports in-place merging:"
   ]
  },
  {
   "cell_type": "code",
   "execution_count": 16,
   "id": "e3939e80-36b8-4959-ae08-54688696ad43",
   "metadata": {},
   "outputs": [
    {
     "name": "stdout",
     "output_type": "stream",
     "text": [
      "{'New York City': 'US', 'Los Angeles': 'US', 'London': 'UK', 'Birmingham': 'UK'}\n"
     ]
    }
   ],
   "source": [
    "cities_us = {'New York City': 'US', 'Los Angeles': 'US'}\n",
    "cities_uk = {'London': 'UK', 'Birmingham': 'UK'}\n",
    "\n",
    "cities_us |= cities_uk\n",
    "print(cities_us)\n",
    "# {'New York City': 'US', 'Los Angeles': 'US', 'London': 'UK', 'Birmingham': 'UK'}"
   ]
  },
  {
   "cell_type": "code",
   "execution_count": null,
   "id": "2e778372-7ce4-4e4d-b73d-be8ede1e4d42",
   "metadata": {},
   "outputs": [],
   "source": []
  },
  {
   "cell_type": "markdown",
   "id": "9bf0ed80-0e61-45e2-9f6d-7613fb7fea80",
   "metadata": {},
   "source": [
    "# 8. F-Strings: The Pythonic String Formatting Technique\n",
    "\n",
    "Almost every programming language supports string formatting syntax. But not each one is as elegant as Python’s f-string technique.\n",
    "\n"
   ]
  },
  {
   "cell_type": "code",
   "execution_count": 17,
   "id": "b5b6675f-e1ad-4a40-b637-48e7e5cca62b",
   "metadata": {},
   "outputs": [
    {
     "name": "stdout",
     "output_type": "stream",
     "text": [
      "Pi is approximately equal to 3.14\n",
      "The id is 001\n",
      "His networth is $1,000,000,000\n"
     ]
    }
   ],
   "source": [
    "pi = 3.1415926\n",
    "print(f'Pi is approximately equal to {pi:.2f}')\n",
    "# Pi is approximately equal to 3.14\n",
    "\n",
    "id = 1  # need to print a 3-digit number\n",
    "print(f\"The id is {id:03d}\")\n",
    "# The id is 001\n",
    "\n",
    "N = 1000000000  # need to add separator\n",
    "print(f'His networth is ${N:,d}')\n",
    "# His networth is $1,000,000,000"
   ]
  },
  {
   "cell_type": "markdown",
   "id": "859adc99-443f-48c0-bfe8-e49448e035ea",
   "metadata": {},
   "source": [
    "The following example will print the time of today with the help of an f-string:"
   ]
  },
  {
   "cell_type": "code",
   "execution_count": 18,
   "id": "8a638759-f98c-4f1f-8862-dd387e3b93c0",
   "metadata": {},
   "outputs": [
    {
     "name": "stdout",
     "output_type": "stream",
     "text": [
      "Today is 2024-07-23 19:14:34.598178\n"
     ]
    }
   ],
   "source": [
    "from datetime import datetime\n",
    "\n",
    "print(f\"Today is {datetime.today()}\")\n",
    "# Today is 2021-07-31 18:20:48.956829"
   ]
  },
  {
   "cell_type": "code",
   "execution_count": null,
   "id": "2e50a50b-1050-4b06-ba67-2ff31226d86b",
   "metadata": {},
   "outputs": [],
   "source": []
  },
  {
   "cell_type": "markdown",
   "id": "13af7d7d-8968-4374-9baf-b9db6ce8e446",
   "metadata": {},
   "source": [
    "# 9. Using Asterisks for Unpacking Iterables and Destructuring Assignments\n",
    "\n",
    "How to merge a list, a tuple and a set into one list?\n",
    "\n",
    "The most elegant way is using asterisks!"
   ]
  },
  {
   "cell_type": "code",
   "execution_count": 19,
   "id": "049fc3c2-5b8f-4d9f-9762-3754016dfe86",
   "metadata": {},
   "outputs": [
    {
     "name": "stdout",
     "output_type": "stream",
     "text": [
      "[1, 2, 3, 4, 5, 6, 8, 9, 7]\n"
     ]
    }
   ],
   "source": [
    "A = [1, 2, 3]\n",
    "B = (4, 5, 6)\n",
    "C = {7, 8, 9}\n",
    "L = [*A, *B, *C]\n",
    "print(L)\n",
    "# [1, 2, 3, 4, 5, 6, 8, 9, 7]"
   ]
  },
  {
   "cell_type": "markdown",
   "id": "2270fa30-9ea8-4ca1-8c4d-9b1c2f49031f",
   "metadata": {},
   "source": [
    "As stated above, the asterisks can be used as prefixes of iterables to unpack their items.\n",
    "\n",
    "Besides unpacking iterables, the asterisks can also be used for destructuring assignments in Python:"
   ]
  },
  {
   "cell_type": "code",
   "execution_count": 20,
   "id": "8a232b1d-d246-45bb-8b6a-ebcb526b4069",
   "metadata": {},
   "outputs": [
    {
     "name": "stdout",
     "output_type": "stream",
     "text": [
      "1 [2, 3, 4, 5] 6\n"
     ]
    }
   ],
   "source": [
    "a, *mid, b = [1, 2, 3, 4, 5, 6]\n",
    "print(a, mid, b)\n",
    "# 1 [2, 3, 4, 5] 6"
   ]
  },
  {
   "cell_type": "code",
   "execution_count": null,
   "id": "092cadba-2886-485b-8327-cf6417de6ca4",
   "metadata": {},
   "outputs": [],
   "source": []
  }
 ],
 "metadata": {
  "kernelspec": {
   "display_name": "PythonLab",
   "language": "python",
   "name": "pythonlab"
  },
  "language_info": {
   "codemirror_mode": {
    "name": "ipython",
    "version": 3
   },
   "file_extension": ".py",
   "mimetype": "text/x-python",
   "name": "python",
   "nbconvert_exporter": "python",
   "pygments_lexer": "ipython3",
   "version": "3.11.8"
  }
 },
 "nbformat": 4,
 "nbformat_minor": 5
}
